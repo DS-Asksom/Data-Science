{
 "cells": [
  {
   "cell_type": "raw",
   "id": "eb5c328c",
   "metadata": {},
   "source": [
    "Q.1 The values of y and their corresponding values of y are shown in the table below\n",
    "x\t0\t1\t2\t3\t4\n",
    "y\t2\t3\t5\t4\t6\n",
    "\n",
    "a) Find the least square regression line y = a x + b.\n",
    "b) Estimate the value of y when x = 10.\n"
   ]
  },
  {
   "cell_type": "code",
   "execution_count": 71,
   "id": "9a9ce698",
   "metadata": {},
   "outputs": [
    {
     "data": {
      "text/html": [
       "<div>\n",
       "<style scoped>\n",
       "    .dataframe tbody tr th:only-of-type {\n",
       "        vertical-align: middle;\n",
       "    }\n",
       "\n",
       "    .dataframe tbody tr th {\n",
       "        vertical-align: top;\n",
       "    }\n",
       "\n",
       "    .dataframe thead th {\n",
       "        text-align: right;\n",
       "    }\n",
       "</style>\n",
       "<table border=\"1\" class=\"dataframe\">\n",
       "  <thead>\n",
       "    <tr style=\"text-align: right;\">\n",
       "      <th></th>\n",
       "      <th>x</th>\n",
       "      <th>y</th>\n",
       "    </tr>\n",
       "  </thead>\n",
       "  <tbody>\n",
       "    <tr>\n",
       "      <th>0</th>\n",
       "      <td>0</td>\n",
       "      <td>2</td>\n",
       "    </tr>\n",
       "    <tr>\n",
       "      <th>1</th>\n",
       "      <td>1</td>\n",
       "      <td>3</td>\n",
       "    </tr>\n",
       "    <tr>\n",
       "      <th>2</th>\n",
       "      <td>2</td>\n",
       "      <td>5</td>\n",
       "    </tr>\n",
       "    <tr>\n",
       "      <th>3</th>\n",
       "      <td>3</td>\n",
       "      <td>4</td>\n",
       "    </tr>\n",
       "    <tr>\n",
       "      <th>4</th>\n",
       "      <td>4</td>\n",
       "      <td>6</td>\n",
       "    </tr>\n",
       "  </tbody>\n",
       "</table>\n",
       "</div>"
      ],
      "text/plain": [
       "   x  y\n",
       "0  0  2\n",
       "1  1  3\n",
       "2  2  5\n",
       "3  3  4\n",
       "4  4  6"
      ]
     },
     "execution_count": 71,
     "metadata": {},
     "output_type": "execute_result"
    }
   ],
   "source": [
    "import numpy as np\n",
    "import pandas as pd\n",
    "d1={\"x\":[0,1,2,3,4],\"y\":[2,3,5,4,6]}\n",
    "df=pd.DataFrame(d1,columns=[\"x\",\"y\"])\n",
    "df"
   ]
  },
  {
   "cell_type": "code",
   "execution_count": 72,
   "id": "16140e46",
   "metadata": {},
   "outputs": [
    {
     "name": "stdout",
     "output_type": "stream",
     "text": [
      "predict_dependent: [11.2]\n",
      "Coefficiant: [0.9]\n"
     ]
    },
    {
     "name": "stderr",
     "output_type": "stream",
     "text": [
      "C:\\Users\\Somnath\\anaconda3\\lib\\site-packages\\sklearn\\base.py:450: UserWarning: X does not have valid feature names, but LinearRegression was fitted with feature names\n",
      "  warnings.warn(\n"
     ]
    }
   ],
   "source": [
    "from sklearn import linear_model\n",
    "\n",
    "#make input and output\n",
    "#make a list of the independent values \n",
    "independent=df[[\"x\"]]\n",
    "\n",
    "#Put the dependent values .\n",
    "dependent=df[\"y\"]\n",
    "\n",
    "\n",
    "reg=linear_model.LinearRegression()\n",
    "reg.fit(independent,dependent)\n",
    "\n",
    "#prediction\n",
    "predict_dependent=reg.predict([[10]])\n",
    "print(\"predict_dependent:\",predict_dependent)\n",
    "print(\"Coefficiant:\",reg.coef_)\n"
   ]
  },
  {
   "cell_type": "code",
   "execution_count": 73,
   "id": "eefa647d",
   "metadata": {},
   "outputs": [
    {
     "data": {
      "text/plain": [
       "11.2"
      ]
     },
     "execution_count": 73,
     "metadata": {},
     "output_type": "execute_result"
    }
   ],
   "source": [
    "y=0.9*10+2.2\n",
    "y"
   ]
  },
  {
   "cell_type": "raw",
   "id": "1d7db2ba",
   "metadata": {},
   "source": [
    "Q.2  Find the least square regression line for the following set of data\n",
    "\n",
    "{(-1 , 0),(0 , 2),(1 , 4),(2 , 5)}\n",
    "\n",
    "b) Plot the given points and the regression line in the same rectangular system of axes.\n"
   ]
  },
  {
   "cell_type": "code",
   "execution_count": 74,
   "id": "0585bcf0",
   "metadata": {},
   "outputs": [
    {
     "data": {
      "text/html": [
       "<div>\n",
       "<style scoped>\n",
       "    .dataframe tbody tr th:only-of-type {\n",
       "        vertical-align: middle;\n",
       "    }\n",
       "\n",
       "    .dataframe tbody tr th {\n",
       "        vertical-align: top;\n",
       "    }\n",
       "\n",
       "    .dataframe thead th {\n",
       "        text-align: right;\n",
       "    }\n",
       "</style>\n",
       "<table border=\"1\" class=\"dataframe\">\n",
       "  <thead>\n",
       "    <tr style=\"text-align: right;\">\n",
       "      <th></th>\n",
       "      <th>x</th>\n",
       "      <th>y</th>\n",
       "    </tr>\n",
       "  </thead>\n",
       "  <tbody>\n",
       "    <tr>\n",
       "      <th>0</th>\n",
       "      <td>-1</td>\n",
       "      <td>0</td>\n",
       "    </tr>\n",
       "    <tr>\n",
       "      <th>1</th>\n",
       "      <td>0</td>\n",
       "      <td>2</td>\n",
       "    </tr>\n",
       "    <tr>\n",
       "      <th>2</th>\n",
       "      <td>1</td>\n",
       "      <td>4</td>\n",
       "    </tr>\n",
       "    <tr>\n",
       "      <th>3</th>\n",
       "      <td>2</td>\n",
       "      <td>5</td>\n",
       "    </tr>\n",
       "  </tbody>\n",
       "</table>\n",
       "</div>"
      ],
      "text/plain": [
       "   x  y\n",
       "0 -1  0\n",
       "1  0  2\n",
       "2  1  4\n",
       "3  2  5"
      ]
     },
     "execution_count": 74,
     "metadata": {},
     "output_type": "execute_result"
    }
   ],
   "source": [
    "import numpy as np\n",
    "import pandas as pd\n",
    "d1={\"x\":[-1,0,1,2],\"y\":[0,2,4,5]}\n",
    "df=pd.DataFrame(d1,columns=[\"x\",\"y\"])\n",
    "df"
   ]
  },
  {
   "cell_type": "code",
   "execution_count": 75,
   "id": "f9df064f",
   "metadata": {},
   "outputs": [
    {
     "name": "stdout",
     "output_type": "stream",
     "text": [
      "Coefficiant: [1.7]\n"
     ]
    },
    {
     "data": {
      "image/png": "[encoded data removed]",
      "text/plain": [
       "<Figure size 432x288 with 1 Axes>"
      ]
     },
     "metadata": {
      "needs_background": "light"
     },
     "output_type": "display_data"
    }
   ],
   "source": [
    "from sklearn import linear_model\n",
    "import matplotlib.pyplot as plt\n",
    "from scipy import stats\n",
    "#make input and output\n",
    "#make a list of the independent values \n",
    "independent=df[[\"x\"]]\n",
    "#Put the dependent values .\n",
    "dependent=df[\"y\"]\n",
    "\n",
    "reg=linear_model.LinearRegression()\n",
    "reg.fit(independent,dependent)\n",
    "\n",
    "print(\"Coefficiant:\",reg.coef_)\n",
    "plt.scatter(independent,dependent)\n",
    "plt.show()"
   ]
  },
  {
   "cell_type": "raw",
   "id": "f6fdd646",
   "metadata": {},
   "source": [
    "Q.3 a) The sales of a company (in million dollars) for each year are shown in the table below.\n",
    "x (year)\t2005\t2006\t2007\t2008\t2009\n",
    "y (sales)\t12\t    19\t    29\t     37\t    45\n",
    "\n",
    "a) Find the least square regression line y = a x + b.\n",
    "b) Use the least squares regression line as a model to estimate the sales of the company in 2012.\n"
   ]
  },
  {
   "cell_type": "code",
   "execution_count": 76,
   "id": "4b401ca9",
   "metadata": {},
   "outputs": [
    {
     "data": {
      "text/html": [
       "<div>\n",
       "<style scoped>\n",
       "    .dataframe tbody tr th:only-of-type {\n",
       "        vertical-align: middle;\n",
       "    }\n",
       "\n",
       "    .dataframe tbody tr th {\n",
       "        vertical-align: top;\n",
       "    }\n",
       "\n",
       "    .dataframe thead th {\n",
       "        text-align: right;\n",
       "    }\n",
       "</style>\n",
       "<table border=\"1\" class=\"dataframe\">\n",
       "  <thead>\n",
       "    <tr style=\"text-align: right;\">\n",
       "      <th></th>\n",
       "      <th>y</th>\n",
       "      <th>sales</th>\n",
       "    </tr>\n",
       "  </thead>\n",
       "  <tbody>\n",
       "    <tr>\n",
       "      <th>0</th>\n",
       "      <td>0</td>\n",
       "      <td>12</td>\n",
       "    </tr>\n",
       "    <tr>\n",
       "      <th>1</th>\n",
       "      <td>1</td>\n",
       "      <td>19</td>\n",
       "    </tr>\n",
       "    <tr>\n",
       "      <th>2</th>\n",
       "      <td>2</td>\n",
       "      <td>29</td>\n",
       "    </tr>\n",
       "    <tr>\n",
       "      <th>3</th>\n",
       "      <td>3</td>\n",
       "      <td>37</td>\n",
       "    </tr>\n",
       "    <tr>\n",
       "      <th>4</th>\n",
       "      <td>4</td>\n",
       "      <td>45</td>\n",
       "    </tr>\n",
       "  </tbody>\n",
       "</table>\n",
       "</div>"
      ],
      "text/plain": [
       "   y  sales\n",
       "0  0     12\n",
       "1  1     19\n",
       "2  2     29\n",
       "3  3     37\n",
       "4  4     45"
      ]
     },
     "execution_count": 76,
     "metadata": {},
     "output_type": "execute_result"
    }
   ],
   "source": [
    "import numpy as np\n",
    "import pandas as pd\n",
    "d1={\"y\":[0,1,2,3,4],\"sales\":[12,19,29,37,45]}\n",
    "df=pd.DataFrame(d1,columns=[\"y\",\"sales\"])\n",
    "df"
   ]
  },
  {
   "cell_type": "code",
   "execution_count": 77,
   "id": "f6b841c0",
   "metadata": {},
   "outputs": [
    {
     "name": "stdout",
     "output_type": "stream",
     "text": [
      "predict_2012_sales:[70.4]million Dollors\n",
      "Coefficiant: [8.4]\n"
     ]
    },
    {
     "name": "stderr",
     "output_type": "stream",
     "text": [
      "C:\\Users\\Somnath\\anaconda3\\lib\\site-packages\\sklearn\\base.py:450: UserWarning: X does not have valid feature names, but LinearRegression was fitted with feature names\n",
      "  warnings.warn(\n"
     ]
    }
   ],
   "source": [
    "from sklearn import linear_model\n",
    "\n",
    "#make input and output\n",
    "#make a list of the independent values \n",
    "independent=df[[\"y\"]]\n",
    "\n",
    "#Put the dependent values .\n",
    "dependent=df[\"sales\"]\n",
    "\n",
    "\n",
    "reg=linear_model.LinearRegression()\n",
    "reg.fit(independent,dependent)\n",
    "\n",
    "#prediction\n",
    "predict_dependent=reg.predict([[7]]) #2012-2005=7 \n",
    "print(f\"predict_2012_sales:{predict_dependent}million Dollors\")\n",
    "print(\"Coefficiant:\",reg.coef_)"
   ]
  },
  {
   "cell_type": "code",
   "execution_count": 78,
   "id": "8cd003b3",
   "metadata": {},
   "outputs": [
    {
     "data": {
      "text/plain": [
       "'Q.4 You have to study the relationship between the monthly e-commerce sales and the online advertising costs.You have the surveys results for 7 online stores for the last year.\\nOnline Store\\tMonthly E-commerce Sales (in 1000 s)\\tOnline Advertising Dollars(1000 s)\\n1\\t368\\t1.7\\n2\\t340\\t1.5\\n3\\t665\\t2.8\\n4\\t954\\t5\\n5\\t331\\t1.3\\n6\\t556\\t2.2\\n7\\t376\\t1.3'"
      ]
     },
     "execution_count": 78,
     "metadata": {},
     "output_type": "execute_result"
    }
   ],
   "source": [
    "\"\"\"Q.4 You have to study the relationship between the monthly e-commerce sales and the online advertising costs.You have the surveys results for 7 online stores for the last year.\n",
    "Online Store\tMonthly E-commerce Sales (in 1000 s)\tOnline Advertising Dollars(1000 s)\n",
    "1\t368\t1.7\n",
    "2\t340\t1.5\n",
    "3\t665\t2.8\n",
    "4\t954\t5\n",
    "5\t331\t1.3\n",
    "6\t556\t2.2\n",
    "7\t376\t1.3\"\"\""
   ]
  },
  {
   "cell_type": "code",
   "execution_count": 79,
   "id": "fed8d14a",
   "metadata": {},
   "outputs": [
    {
     "data": {
      "text/html": [
       "<div>\n",
       "<style scoped>\n",
       "    .dataframe tbody tr th:only-of-type {\n",
       "        vertical-align: middle;\n",
       "    }\n",
       "\n",
       "    .dataframe tbody tr th {\n",
       "        vertical-align: top;\n",
       "    }\n",
       "\n",
       "    .dataframe thead th {\n",
       "        text-align: right;\n",
       "    }\n",
       "</style>\n",
       "<table border=\"1\" class=\"dataframe\">\n",
       "  <thead>\n",
       "    <tr style=\"text-align: right;\">\n",
       "      <th></th>\n",
       "      <th>Online_store</th>\n",
       "      <th>Monthly_sales</th>\n",
       "      <th>Online_Adv</th>\n",
       "    </tr>\n",
       "  </thead>\n",
       "  <tbody>\n",
       "    <tr>\n",
       "      <th>0</th>\n",
       "      <td>1</td>\n",
       "      <td>368</td>\n",
       "      <td>1.7</td>\n",
       "    </tr>\n",
       "    <tr>\n",
       "      <th>1</th>\n",
       "      <td>2</td>\n",
       "      <td>340</td>\n",
       "      <td>1.5</td>\n",
       "    </tr>\n",
       "    <tr>\n",
       "      <th>2</th>\n",
       "      <td>3</td>\n",
       "      <td>665</td>\n",
       "      <td>2.8</td>\n",
       "    </tr>\n",
       "    <tr>\n",
       "      <th>3</th>\n",
       "      <td>4</td>\n",
       "      <td>954</td>\n",
       "      <td>5.0</td>\n",
       "    </tr>\n",
       "    <tr>\n",
       "      <th>4</th>\n",
       "      <td>5</td>\n",
       "      <td>331</td>\n",
       "      <td>1.3</td>\n",
       "    </tr>\n",
       "    <tr>\n",
       "      <th>5</th>\n",
       "      <td>6</td>\n",
       "      <td>556</td>\n",
       "      <td>2.2</td>\n",
       "    </tr>\n",
       "    <tr>\n",
       "      <th>6</th>\n",
       "      <td>7</td>\n",
       "      <td>376</td>\n",
       "      <td>1.3</td>\n",
       "    </tr>\n",
       "  </tbody>\n",
       "</table>\n",
       "</div>"
      ],
      "text/plain": [
       "   Online_store  Monthly_sales  Online_Adv\n",
       "0             1            368         1.7\n",
       "1             2            340         1.5\n",
       "2             3            665         2.8\n",
       "3             4            954         5.0\n",
       "4             5            331         1.3\n",
       "5             6            556         2.2\n",
       "6             7            376         1.3"
      ]
     },
     "execution_count": 79,
     "metadata": {},
     "output_type": "execute_result"
    }
   ],
   "source": [
    "import numpy as np\n",
    "import pandas as pd\n",
    "d1={\"Online_store\":[1,2,3,4,5,6,7],\"Monthly_sales\":[368,340,665,954,331,556,376],\"Online_Adv\":[1.7,1.5,2.8,5,1.3,2.2,1.3]}\n",
    "df=pd.DataFrame(d1,columns=[\"Online_store\",\"Monthly_sales\",\"Online_Adv\"])\n",
    "df"
   ]
  },
  {
   "cell_type": "code",
   "execution_count": 86,
   "id": "e7c1544b",
   "metadata": {},
   "outputs": [
    {
     "name": "stdout",
     "output_type": "stream",
     "text": [
      "Coefficiant: [0.00560616]\n",
      "Intercept -0.6180148991607148\n",
      "Expence of  online advisement on  500000 sales is [2.18506369]million Dollors \n"
     ]
    },
    {
     "name": "stderr",
     "output_type": "stream",
     "text": [
      "C:\\Users\\Somnath\\anaconda3\\lib\\site-packages\\sklearn\\base.py:450: UserWarning: X does not have valid feature names, but LinearRegression was fitted with feature names\n",
      "  warnings.warn(\n"
     ]
    },
    {
     "data": {
      "image/png": "[encoded data removed]",
      "text/plain": [
       "<Figure size 432x288 with 1 Axes>"
      ]
     },
     "metadata": {
      "needs_background": "light"
     },
     "output_type": "display_data"
    }
   ],
   "source": [
    "from sklearn import linear_model\n",
    "import matplotlib.pyplot as plt\n",
    "\n",
    "\n",
    "independent=df[[\"Monthly_sales\"]]\n",
    "\n",
    "dependent=df[\"Online_Adv\"]\n",
    "\n",
    "reg=linear_model.LinearRegression()\n",
    "reg.fit(independent,dependent)\n",
    "\n",
    "print(\"Coefficiant:\",reg.coef_)\n",
    "print(\"Intercept\",reg.intercept_)\n",
    "\n",
    "#prdiction if monthly sale 500 then how many dollrs on online advisemnt\n",
    "predict_dependent=reg.predict([[500]])\n",
    "print(f\"Expence of  online advisement on  500000 sales is {predict_dependent}million Dollors \")\n",
    "\n",
    "plt.scatter(independent,dependent)\n",
    "plt.show()\n",
    "\n"
   ]
  },
  {
   "cell_type": "code",
   "execution_count": 82,
   "id": "911372a9",
   "metadata": {},
   "outputs": [
    {
     "data": {
      "text/plain": [
       "2.185065100839285"
      ]
     },
     "execution_count": 82,
     "metadata": {},
     "output_type": "execute_result"
    }
   ],
   "source": [
    "y=(500*0.00560616)+ (-0.6180148991607148)\n",
    "y"
   ]
  },
  {
   "cell_type": "code",
   "execution_count": null,
   "id": "61ac8d41",
   "metadata": {},
   "outputs": [],
   "source": []
  }
 ],
 "metadata": {
  "kernelspec": {
   "display_name": "Python 3 (ipykernel)",
   "language": "python",
   "name": "python3"
  },
  "language_info": {
   "codemirror_mode": {
    "name": "ipython",
    "version": 3
   },
   "file_extension": ".py",
   "mimetype": "text/x-python",
   "name": "python",
   "nbconvert_exporter": "python",
   "pygments_lexer": "ipython3",
   "version": "3.9.12"
  }
 },
 "nbformat": 4,
 "nbformat_minor": 5
}
